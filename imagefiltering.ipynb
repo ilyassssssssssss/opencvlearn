{
 "cells": [
  {
   "cell_type": "code",
   "execution_count": null,
   "metadata": {},
   "outputs": [
    {
     "name": "stdout",
     "output_type": "stream",
     "text": [
      "Using video source: --f=/Users/ilyas/Library/Jupyter/runtime/kernel-v3a66d1af5054cd6d99ca8d439334a275283e75b4f.json\n"
     ]
    },
    {
     "name": "stderr",
     "output_type": "stream",
     "text": [
      "2024-11-24 08:07:41.930 python[32952:766348] +[IMKClient subclass]: chose IMKClient_Legacy\n",
      "2024-11-24 08:07:41.930 python[32952:766348] +[IMKInputSession subclass]: chose IMKInputSession_Legacy\n"
     ]
    },
    {
     "ename": "",
     "evalue": "",
     "output_type": "error",
     "traceback": [
      "\u001b[1;31mThe Kernel crashed while executing code in the current cell or a previous cell. \n",
      "\u001b[1;31mPlease review the code in the cell(s) to identify a possible cause of the failure. \n",
      "\u001b[1;31mClick <a href='https://aka.ms/vscodeJupyterKernelCrash'>here</a> for more info. \n",
      "\u001b[1;31mView Jupyter <a href='command:jupyter.viewOutput'>log</a> for further details."
     ]
    }
   ],
   "source": [
    "import cv2\n",
    "import sys\n",
    "import numpy\n",
    "\n",
    "PREVIEW  = 0  # Preview Mode\n",
    "BLUR     = 1  # Blurring Filter\n",
    "FEATURES = 2  # Corner Feature Detector\n",
    "CANNY    = 3  # Canny Edge Detector\n",
    "\n",
    "feature_params = dict(maxCorners=500, qualityLevel=0.2, minDistance=15, blockSize=9)\n",
    "s = 0\n",
    "if len(sys.argv) > 1:\n",
    "    print(\"Using video source:\", sys.argv[1])\n",
    "    s = sys.argv[1]\n",
    "\n",
    "image_filter = PREVIEW\n",
    "alive = True\n",
    "\n",
    "win_name = \"Camera Filters\"\n",
    "cv2.namedWindow(win_name, cv2.WINDOW_NORMAL)\n",
    "result = None\n",
    "\n",
    "source = cv2.VideoCapture(0)\n",
    "\n",
    "while alive:\n",
    "    has_frame, frame = source.read()\n",
    "    if not has_frame:\n",
    "        break\n",
    "\n",
    "    frame = cv2.flip(frame, 1)\n",
    "\n",
    "    if image_filter == PREVIEW:\n",
    "        result = frame\n",
    "    elif image_filter == CANNY:\n",
    "        result = cv2.Canny(frame, 30, 150)\n",
    "    elif image_filter == BLUR:\n",
    "        result = cv2.blur(frame, (13, 13))\n",
    "    elif image_filter == FEATURES:\n",
    "        result = frame\n",
    "        frame_gray = cv2.cvtColor(frame, cv2.COLOR_BGR2GRAY)\n",
    "        corners = cv2.goodFeaturesToTrack(frame_gray, **feature_params)\n",
    "        if corners is not None:\n",
    "            for x, y in numpy.float32(corners).reshape(-1, 2):\n",
    "                cv2.circle(result, (int(x), int(y)), 10, (0, 255, 0), 1)\n",
    "\n",
    "    cv2.imshow(win_name, result)\n",
    "\n",
    "    key = cv2.waitKey(1)\n",
    "    if key == ord(\"Q\") or key == ord(\"q\") or key == 27:\n",
    "        break\n",
    "    elif key == ord(\"C\") or key == ord(\"c\"):\n",
    "        image_filter = CANNY\n",
    "    elif key == ord(\"B\") or key == ord(\"b\"):\n",
    "        image_filter = BLUR\n",
    "    elif key == ord(\"F\") or key == ord(\"f\"):\n",
    "        image_filter = FEATURES\n",
    "    elif key == ord(\"P\") or key == ord(\"p\"):\n",
    "        image_filter = PREVIEW\n",
    "\n",
    "source.release()\n",
    "cv2.destroyWindow(win_name)"
   ]
  },
  {
   "cell_type": "code",
   "execution_count": null,
   "metadata": {},
   "outputs": [
    {
     "name": "stdout",
     "output_type": "stream",
     "text": [
      "['/opt/anaconda3/envs/opencv-env/lib/python3.12/site-packages/ipykernel_launcher.py', '--f=/Users/ilyas/Library/Jupyter/runtime/kernel-v319ef684f9c0ba70b3a5d2269e1c0839a26171b69.json']\n"
     ]
    }
   ],
   "source": [
    "import sys\n",
    "print(sys.argv)"
   ]
  },
  {
   "cell_type": "code",
   "execution_count": null,
   "metadata": {},
   "outputs": [],
   "source": []
  }
 ],
 "metadata": {
  "kernelspec": {
   "display_name": "opencv-env",
   "language": "python",
   "name": "python3"
  },
  "language_info": {
   "codemirror_mode": {
    "name": "ipython",
    "version": 3
   },
   "file_extension": ".py",
   "mimetype": "text/x-python",
   "name": "python",
   "nbconvert_exporter": "python",
   "pygments_lexer": "ipython3",
   "version": "3.12.7"
  }
 },
 "nbformat": 4,
 "nbformat_minor": 2
}
